{
 "cells": [
  {
   "cell_type": "code",
   "execution_count": 1,
   "metadata": {},
   "outputs": [
    {
     "name": "stdout",
     "output_type": "stream",
     "text": [
      "63538.64\n"
     ]
    }
   ],
   "source": [
    "%matplotlib inline\n",
    "# Dependencies and Setup\n",
    "import matplotlib.pyplot as plt\n",
    "import pandas as pd\n",
    "import numpy as np\n",
    "\n",
    "# File to Load (Remember to change these)\n",
    "city_data_to_load = \"data/city_data.csv\"\n",
    "ride_data_to_load = \"data/ride_data.csv\"\n",
    "\n",
    "# Read the City and Ride Data\n",
    "citydata = pd.read_csv(city_data_to_load)\n",
    "ridedata = pd.read_csv(ride_data_to_load)\n",
    "# Combine the data into a single dataset\n",
    "CombinedCityRide_df = pd.merge(citydata, ridedata, how='outer', on='city')\n",
    "# Display the data table for preview\n",
    "CombinedCityRide_df.head()\n",
    "TotalFare = CombinedCityRide_df['fare'].sum()\n",
    "print (TotalFare)"
   ]
  },
  {
   "cell_type": "code",
   "execution_count": 2,
   "metadata": {},
   "outputs": [],
   "source": [
    "cityGroup = CombinedCityRide_df.groupby('type')\n",
    "y_axis = cityGroup['fare'].mean()\n",
    "s_axis = cityGroup['driver_count'].sum()\n",
    "x_axis = cityGroup['type'].count()\n",
    "Citytypes = cityGroup['city'].count()\n"
   ]
  },
  {
   "cell_type": "code",
   "execution_count": 3,
   "metadata": {
    "scrolled": true
   },
   "outputs": [
    {
     "data": {
      "text/plain": [
       "type\n",
       "Rural        125\n",
       "Suburban     625\n",
       "Urban       1625\n",
       "Name: city, dtype: int64"
      ]
     },
     "execution_count": 3,
     "metadata": {},
     "output_type": "execute_result"
    }
   ],
   "source": [
    "Citytypes\n"
   ]
  },
  {
   "cell_type": "markdown",
   "metadata": {},
   "source": [
    "## Bubble Plot of Ride Sharing Data"
   ]
  },
  {
   "cell_type": "code",
   "execution_count": 4,
   "metadata": {},
   "outputs": [
    {
     "data": {
      "text/plain": [
       "<function matplotlib.pyplot.show(*args, **kw)>"
      ]
     },
     "execution_count": 4,
     "metadata": {},
     "output_type": "execute_result"
    },
    {
     "data": {
      "image/png": "[encoded data removed]",
      "text/plain": [
       "<Figure size 432x288 with 1 Axes>"
      ]
     },
     "metadata": {
      "needs_background": "light"
     },
     "output_type": "display_data"
    }
   ],
   "source": [
    "# Obtain the x and y coordinates for each of the three city types\n",
    "\n",
    "#for color in city \n",
    "colors = ['Gold', 'LightSkyBlue', 'LightCoral']\n",
    "\n",
    "# Build the scatter plots for each city types\n",
    "plt.scatter(x_axis, y_axis, s_axis, marker='o', c=colors)\n",
    "\n",
    "# Incorporate the other graph properties\n",
    "\n",
    "# Create a legend\n",
    "\n",
    "# Incorporate a text label regarding circle size\n",
    "\n",
    "# Save Figure\n",
    "plt.show"
   ]
  },
  {
   "cell_type": "code",
   "execution_count": 5,
   "metadata": {},
   "outputs": [],
   "source": [
    "# Show plot\n",
    "plt.show()"
   ]
  },
  {
   "cell_type": "markdown",
   "metadata": {},
   "source": [
    "\n",
    "## Total Fares by City Type"
   ]
  },
  {
   "cell_type": "code",
   "execution_count": 6,
   "metadata": {},
   "outputs": [
    {
     "name": "stdout",
     "output_type": "stream",
     "text": [
      "<pandas.core.groupby.groupby.DataFrameGroupBy object at 0x000001D9011AD668>\n"
     ]
    },
    {
     "data": {
      "text/plain": [
       "(-1.116703108059631,\n",
       " 1.197266450606346,\n",
       " -1.1123788383456472,\n",
       " 1.1610996829807194)"
      ]
     },
     "execution_count": 6,
     "metadata": {},
     "output_type": "execute_result"
    },
    {
     "data": {
      "image/png": "[encoded data removed]",
      "text/plain": [
       "<Figure size 432x288 with 1 Axes>"
      ]
     },
     "metadata": {},
     "output_type": "display_data"
    }
   ],
   "source": [
    "# Calculate Type Percents\n",
    "TypeGroup = CombinedCityRide_df.groupby('type')\n",
    "print(TypeGroup)\n",
    "FareCounts= TypeGroup['fare'].count().reset_index()\n",
    "FareCounts= FareCounts.rename(columns = {\"fare\": \"Total Fare Count\"})\n",
    "FareSum = TypeGroup[['fare']].sum()\n",
    "FareSum = FareSum.rename(columns = {\"fare\": \"Fare Total Sum\"})\n",
    "\n",
    "\n",
    "Fare_df= pd.DataFrame(FareCounts)\n",
    "Fare_df= Fare_df.merge(FareSum, on='type')\n",
    "Fare_df\n",
    "\n",
    "FarePrecentage = (FareSum/TotalFare*100)\n",
    "FarePrecentage\n",
    "\n",
    "# Build Pie Chart\n",
    "explode = (0,0,0.1)\n",
    "colors = ['Gold', 'LightSkyBlue', 'LightCoral']\n",
    "labels = Fare_df['type']\n",
    "plt.pie(FarePrecentage['Fare Total Sum'], explode=explode, labels=labels, colors=colors,\n",
    "        autopct=\"%1.1f%%\", shadow=True, startangle=140)\n",
    "plt.axis(\"equal\")\n",
    "\n",
    "# Save Figure\n"
   ]
  },
  {
   "cell_type": "code",
   "execution_count": 7,
   "metadata": {},
   "outputs": [
    {
     "name": "stdout",
     "output_type": "stream",
     "text": [
      "2375\n"
     ]
    }
   ],
   "source": [
    "# Show Figure\n",
    "plt.show()\n",
    "CombinedCityRide_df.head()\n",
    "TotalRide = CombinedCityRide_df['ride_id'].count()\n",
    "print(TotalRide)"
   ]
  },
  {
   "cell_type": "markdown",
   "metadata": {},
   "source": [
    "## Total Rides by City Type"
   ]
  },
  {
   "cell_type": "code",
   "execution_count": 8,
   "metadata": {},
   "outputs": [
    {
     "name": "stdout",
     "output_type": "stream",
     "text": [
      "<pandas.core.groupby.groupby.DataFrameGroupBy object at 0x000001D9011AD208>\n"
     ]
    },
    {
     "data": {
      "text/plain": [
       "(-1.1110420108142822,\n",
       " 1.215408844786391,\n",
       " -1.085782351148256,\n",
       " 1.1462471637001541)"
      ]
     },
     "execution_count": 8,
     "metadata": {},
     "output_type": "execute_result"
    },
    {
     "data": {
      "image/png": "[encoded data removed]",
      "text/plain": [
       "<Figure size 432x288 with 1 Axes>"
      ]
     },
     "metadata": {},
     "output_type": "display_data"
    }
   ],
   "source": [
    "# Calculate Ride Percents\n",
    "TypeGroup = CombinedCityRide_df.groupby('type')\n",
    "print(TypeGroup)\n",
    "RideCount = TypeGroup['ride_id'].count()\n",
    "Ride_df = pd.DataFrame(RideCount)\n",
    "Ride_df\n",
    "RidePrecentage = (RideCount/TotalRide*100)\n",
    "RidePrecentage\n",
    "\n",
    "# Build Pie Chart\n",
    "explode = (0,0,0.1)\n",
    "colors = ['Gold', 'LightSkyBlue', 'LightCoral']\n",
    "labels = Fare_df['type']\n",
    "plt.pie(RidePrecentage, explode=explode, labels=labels, colors=colors,\n",
    "        autopct=\"%1.1f%%\", shadow=True, startangle=140)\n",
    "plt.axis(\"equal\")\n",
    "\n",
    "\n",
    "# Save Figure\n"
   ]
  },
  {
   "cell_type": "code",
   "execution_count": 9,
   "metadata": {},
   "outputs": [
    {
     "name": "stdout",
     "output_type": "stream",
     "text": [
      "68709\n"
     ]
    }
   ],
   "source": [
    "# Show Figure\n",
    "plt.show()\n",
    "CombinedCityRide_df.head()\n",
    "TotalDriver = CombinedCityRide_df['driver_count'].sum()\n",
    "print(TotalDriver)"
   ]
  },
  {
   "cell_type": "markdown",
   "metadata": {},
   "source": [
    "## Total Drivers by City Type"
   ]
  },
  {
   "cell_type": "code",
   "execution_count": 10,
   "metadata": {},
   "outputs": [
    {
     "name": "stdout",
     "output_type": "stream",
     "text": [
      "<pandas.core.groupby.groupby.DataFrameGroupBy object at 0x000001D901297860>\n"
     ]
    },
    {
     "data": {
      "text/plain": [
       "(-1.1140166756767778,\n",
       " 1.20650295532165,\n",
       " -1.1340349971878627,\n",
       " 1.0785783440740375)"
      ]
     },
     "execution_count": 10,
     "metadata": {},
     "output_type": "execute_result"
    },
    {
     "data": {
      "image/png": "[encoded data removed]",
      "text/plain": [
       "<Figure size 432x288 with 1 Axes>"
      ]
     },
     "metadata": {},
     "output_type": "display_data"
    }
   ],
   "source": [
    "# Calculate Driver Percents\n",
    "TypeGroup = CombinedCityRide_df.groupby('type')\n",
    "print(TypeGroup)\n",
    "DriverCount = TypeGroup['driver_count'].sum()\n",
    "Driver_df = pd.DataFrame(DriverCount)\n",
    "Driver_df\n",
    "DriverPrecentage = (DriverCount/TotalDriver*100)\n",
    "DriverPrecentage\n",
    "\n",
    "# Build Pie Chart\n",
    "explode = (0,0,0.1)\n",
    "colors = ['Gold', 'LightSkyBlue', 'LightCoral']\n",
    "labels = Fare_df['type']\n",
    "plt.pie(DriverPrecentage, explode=explode, labels=labels, colors=colors,\n",
    "        autopct=\"%1.1f%%\", shadow=True, startangle=140)\n",
    "plt.axis(\"equal\")\n",
    "\n",
    "# Save Figure\n"
   ]
  },
  {
   "cell_type": "code",
   "execution_count": 11,
   "metadata": {
    "scrolled": true
   },
   "outputs": [],
   "source": [
    "# Show Figure\n",
    "plt.show()"
   ]
  },
  {
   "cell_type": "code",
   "execution_count": null,
   "metadata": {},
   "outputs": [],
   "source": []
  },
  {
   "cell_type": "code",
   "execution_count": null,
   "metadata": {},
   "outputs": [],
   "source": []
  }
 ],
 "metadata": {
  "anaconda-cloud": {},
  "kernelspec": {
   "display_name": "Python 3",
   "language": "python",
   "name": "python3"
  },
  "language_info": {
   "codemirror_mode": {
    "name": "ipython",
    "version": 3
   },
   "file_extension": ".py",
   "mimetype": "text/x-python",
   "name": "python",
   "nbconvert_exporter": "python",
   "pygments_lexer": "ipython3",
   "version": "3.6.6"
  }
 },
 "nbformat": 4,
 "nbformat_minor": 2
}
