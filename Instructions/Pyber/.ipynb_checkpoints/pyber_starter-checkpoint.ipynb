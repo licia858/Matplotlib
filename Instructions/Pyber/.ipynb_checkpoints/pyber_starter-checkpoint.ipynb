{
 "cells": [
  {
   "cell_type": "code",
   "execution_count": 1,
   "metadata": {},
   "outputs": [
    {
     "data": {
      "text/html": [
       "<div>\n",
       "<style scoped>\n",
       "    .dataframe tbody tr th:only-of-type {\n",
       "        vertical-align: middle;\n",
       "    }\n",
       "\n",
       "    .dataframe tbody tr th {\n",
       "        vertical-align: top;\n",
       "    }\n",
       "\n",
       "    .dataframe thead th {\n",
       "        text-align: right;\n",
       "    }\n",
       "</style>\n",
       "<table border=\"1\" class=\"dataframe\">\n",
       "  <thead>\n",
       "    <tr style=\"text-align: right;\">\n",
       "      <th></th>\n",
       "      <th>city</th>\n",
       "      <th>date</th>\n",
       "      <th>fare</th>\n",
       "      <th>ride_id</th>\n",
       "      <th>driver_count</th>\n",
       "      <th>type</th>\n",
       "    </tr>\n",
       "  </thead>\n",
       "  <tbody>\n",
       "    <tr>\n",
       "      <th>0</th>\n",
       "      <td>Lake Jonathanshire</td>\n",
       "      <td>2018-01-14 10:14:22</td>\n",
       "      <td>13.83</td>\n",
       "      <td>5739410935873</td>\n",
       "      <td>5</td>\n",
       "      <td>Urban</td>\n",
       "    </tr>\n",
       "    <tr>\n",
       "      <th>1</th>\n",
       "      <td>Lake Jonathanshire</td>\n",
       "      <td>2018-04-07 20:51:11</td>\n",
       "      <td>31.25</td>\n",
       "      <td>4441251834598</td>\n",
       "      <td>5</td>\n",
       "      <td>Urban</td>\n",
       "    </tr>\n",
       "    <tr>\n",
       "      <th>2</th>\n",
       "      <td>Lake Jonathanshire</td>\n",
       "      <td>2018-03-09 23:45:55</td>\n",
       "      <td>19.89</td>\n",
       "      <td>2389495660448</td>\n",
       "      <td>5</td>\n",
       "      <td>Urban</td>\n",
       "    </tr>\n",
       "    <tr>\n",
       "      <th>3</th>\n",
       "      <td>Lake Jonathanshire</td>\n",
       "      <td>2018-04-07 18:09:21</td>\n",
       "      <td>24.28</td>\n",
       "      <td>7796805191168</td>\n",
       "      <td>5</td>\n",
       "      <td>Urban</td>\n",
       "    </tr>\n",
       "    <tr>\n",
       "      <th>4</th>\n",
       "      <td>Lake Jonathanshire</td>\n",
       "      <td>2018-01-02 14:14:50</td>\n",
       "      <td>13.89</td>\n",
       "      <td>424254840012</td>\n",
       "      <td>5</td>\n",
       "      <td>Urban</td>\n",
       "    </tr>\n",
       "  </tbody>\n",
       "</table>\n",
       "</div>"
      ],
      "text/plain": [
       "                 city                 date   fare        ride_id  \\\n",
       "0  Lake Jonathanshire  2018-01-14 10:14:22  13.83  5739410935873   \n",
       "1  Lake Jonathanshire  2018-04-07 20:51:11  31.25  4441251834598   \n",
       "2  Lake Jonathanshire  2018-03-09 23:45:55  19.89  2389495660448   \n",
       "3  Lake Jonathanshire  2018-04-07 18:09:21  24.28  7796805191168   \n",
       "4  Lake Jonathanshire  2018-01-02 14:14:50  13.89   424254840012   \n",
       "\n",
       "   driver_count   type  \n",
       "0             5  Urban  \n",
       "1             5  Urban  \n",
       "2             5  Urban  \n",
       "3             5  Urban  \n",
       "4             5  Urban  "
      ]
     },
     "execution_count": 1,
     "metadata": {},
     "output_type": "execute_result"
    }
   ],
   "source": [
    "%matplotlib inline\n",
    "\n",
    "# Dependencies and Setup\n",
    "import matplotlib.pyplot as plt\n",
    "import pandas as pd\n",
    "import numpy as np\n",
    "\n",
    "# File to Load (Remember to change these)\n",
    "city_data_to_load = \"data/city_data.csv\"\n",
    "ride_data_to_load = \"data/ride_data.csv\"\n",
    "\n",
    "# Read the City and Ride Data\n",
    "citydata = pd.read_csv(city_data_to_load)\n",
    "ridedata = pd.read_csv(ride_data_to_load)\n",
    "# Combine the data into a single dataset\n",
    "CombinedCityRide_df = pd.merge(ridedata, citydata, how='outer', on='city')\n",
    "# Display the data table for preview\n",
    "CombinedCityRide_df.head()\n"
   ]
  },
  {
   "cell_type": "code",
   "execution_count": 2,
   "metadata": {},
   "outputs": [
    {
     "name": "stdout",
     "output_type": "stream",
     "text": [
      "63538.64\n"
     ]
    }
   ],
   "source": [
    "#used for later\n",
    "TotalFare = CombinedCityRide_df['fare'].sum()\n",
    "print (TotalFare)"
   ]
  },
  {
   "cell_type": "code",
   "execution_count": 16,
   "metadata": {},
   "outputs": [
    {
     "name": "stdout",
     "output_type": "stream",
     "text": [
      "<pandas.core.groupby.groupby.DataFrameGroupBy object at 0x000001D53FD1A358>\n"
     ]
    },
    {
     "data": {
      "text/html": [
       "<div>\n",
       "<style scoped>\n",
       "    .dataframe tbody tr th:only-of-type {\n",
       "        vertical-align: middle;\n",
       "    }\n",
       "\n",
       "    .dataframe tbody tr th {\n",
       "        vertical-align: top;\n",
       "    }\n",
       "\n",
       "    .dataframe thead th {\n",
       "        text-align: right;\n",
       "    }\n",
       "</style>\n",
       "<table border=\"1\" class=\"dataframe\">\n",
       "  <thead>\n",
       "    <tr style=\"text-align: right;\">\n",
       "      <th></th>\n",
       "      <th>city</th>\n",
       "      <th>citycount</th>\n",
       "      <th>driver_count</th>\n",
       "      <th>fare</th>\n",
       "    </tr>\n",
       "    <tr>\n",
       "      <th>type</th>\n",
       "      <th></th>\n",
       "      <th></th>\n",
       "      <th></th>\n",
       "      <th></th>\n",
       "    </tr>\n",
       "  </thead>\n",
       "  <tbody>\n",
       "    <tr>\n",
       "      <th>Urban</th>\n",
       "      <td>Amandaburgh</td>\n",
       "      <td>18</td>\n",
       "      <td>216</td>\n",
       "      <td>24.641667</td>\n",
       "    </tr>\n",
       "    <tr>\n",
       "      <th>Urban</th>\n",
       "      <td>Barajasview</td>\n",
       "      <td>22</td>\n",
       "      <td>572</td>\n",
       "      <td>25.332273</td>\n",
       "    </tr>\n",
       "    <tr>\n",
       "      <th>Suburban</th>\n",
       "      <td>Barronchester</td>\n",
       "      <td>16</td>\n",
       "      <td>176</td>\n",
       "      <td>36.422500</td>\n",
       "    </tr>\n",
       "    <tr>\n",
       "      <th>Suburban</th>\n",
       "      <td>Bethanyland</td>\n",
       "      <td>18</td>\n",
       "      <td>396</td>\n",
       "      <td>32.956111</td>\n",
       "    </tr>\n",
       "    <tr>\n",
       "      <th>Rural</th>\n",
       "      <td>Bradshawfurt</td>\n",
       "      <td>10</td>\n",
       "      <td>70</td>\n",
       "      <td>40.064000</td>\n",
       "    </tr>\n",
       "  </tbody>\n",
       "</table>\n",
       "</div>"
      ],
      "text/plain": [
       "                   city  citycount  driver_count       fare\n",
       "type                                                       \n",
       "Urban       Amandaburgh         18           216  24.641667\n",
       "Urban       Barajasview         22           572  25.332273\n",
       "Suburban  Barronchester         16           176  36.422500\n",
       "Suburban    Bethanyland         18           396  32.956111\n",
       "Rural      Bradshawfurt         10            70  40.064000"
      ]
     },
     "execution_count": 16,
     "metadata": {},
     "output_type": "execute_result"
    }
   ],
   "source": [
    "######################################################\n",
    "cityGroup = CombinedCityRide_df.groupby('city')\n",
    "print(cityGroup)\n",
    "citycount = cityGroup['type'].value_counts()\n",
    "\n",
    "#citytype = UrbanGroup['type'].count()\n",
    "drivercount = cityGroup['driver_count'].sum().reset_index()\n",
    "averagefare = cityGroup['fare'].mean().reset_index()\n",
    "data_df = pd.DataFrame(citycount)\n",
    "data_df = data_df.rename(columns={'type': \"citycount\"})\n",
    "data_df = data_df.reset_index('type')\n",
    "data_df = data_df.merge(drivercount, on='city').set_index('city')\n",
    "data_df = data_df.merge(averagefare, on='city')\n",
    "data_df = data_df.set_index('type')\n",
    "data_df.head()"
   ]
  },
  {
   "cell_type": "code",
   "execution_count": 4,
   "metadata": {},
   "outputs": [
    {
     "data": {
      "text/html": [
       "<div>\n",
       "<style scoped>\n",
       "    .dataframe tbody tr th:only-of-type {\n",
       "        vertical-align: middle;\n",
       "    }\n",
       "\n",
       "    .dataframe tbody tr th {\n",
       "        vertical-align: top;\n",
       "    }\n",
       "\n",
       "    .dataframe thead th {\n",
       "        text-align: right;\n",
       "    }\n",
       "</style>\n",
       "<table border=\"1\" class=\"dataframe\">\n",
       "  <thead>\n",
       "    <tr style=\"text-align: right;\">\n",
       "      <th></th>\n",
       "      <th>city</th>\n",
       "      <th>citycount</th>\n",
       "      <th>driver_count</th>\n",
       "      <th>fare</th>\n",
       "    </tr>\n",
       "    <tr>\n",
       "      <th>type</th>\n",
       "      <th></th>\n",
       "      <th></th>\n",
       "      <th></th>\n",
       "      <th></th>\n",
       "    </tr>\n",
       "  </thead>\n",
       "  <tbody>\n",
       "    <tr>\n",
       "      <th>Rural</th>\n",
       "      <td>Bradshawfurt</td>\n",
       "      <td>10</td>\n",
       "      <td>70</td>\n",
       "      <td>40.064000</td>\n",
       "    </tr>\n",
       "    <tr>\n",
       "      <th>Rural</th>\n",
       "      <td>Garzaport</td>\n",
       "      <td>3</td>\n",
       "      <td>21</td>\n",
       "      <td>24.123333</td>\n",
       "    </tr>\n",
       "    <tr>\n",
       "      <th>Rural</th>\n",
       "      <td>Harringtonfort</td>\n",
       "      <td>6</td>\n",
       "      <td>24</td>\n",
       "      <td>33.470000</td>\n",
       "    </tr>\n",
       "    <tr>\n",
       "      <th>Rural</th>\n",
       "      <td>Jessicaport</td>\n",
       "      <td>6</td>\n",
       "      <td>6</td>\n",
       "      <td>36.013333</td>\n",
       "    </tr>\n",
       "    <tr>\n",
       "      <th>Rural</th>\n",
       "      <td>Lake Jamie</td>\n",
       "      <td>6</td>\n",
       "      <td>24</td>\n",
       "      <td>34.358333</td>\n",
       "    </tr>\n",
       "    <tr>\n",
       "      <th>Rural</th>\n",
       "      <td>Lake Latoyabury</td>\n",
       "      <td>11</td>\n",
       "      <td>22</td>\n",
       "      <td>26.061818</td>\n",
       "    </tr>\n",
       "    <tr>\n",
       "      <th>Rural</th>\n",
       "      <td>Michaelberg</td>\n",
       "      <td>12</td>\n",
       "      <td>72</td>\n",
       "      <td>34.997500</td>\n",
       "    </tr>\n",
       "    <tr>\n",
       "      <th>Rural</th>\n",
       "      <td>New Ryantown</td>\n",
       "      <td>6</td>\n",
       "      <td>12</td>\n",
       "      <td>43.278333</td>\n",
       "    </tr>\n",
       "    <tr>\n",
       "      <th>Rural</th>\n",
       "      <td>Newtonview</td>\n",
       "      <td>4</td>\n",
       "      <td>4</td>\n",
       "      <td>36.745000</td>\n",
       "    </tr>\n",
       "    <tr>\n",
       "      <th>Rural</th>\n",
       "      <td>North Holly</td>\n",
       "      <td>9</td>\n",
       "      <td>72</td>\n",
       "      <td>29.130000</td>\n",
       "    </tr>\n",
       "    <tr>\n",
       "      <th>Rural</th>\n",
       "      <td>North Jaime</td>\n",
       "      <td>8</td>\n",
       "      <td>8</td>\n",
       "      <td>30.802500</td>\n",
       "    </tr>\n",
       "    <tr>\n",
       "      <th>Rural</th>\n",
       "      <td>Penaborough</td>\n",
       "      <td>5</td>\n",
       "      <td>30</td>\n",
       "      <td>35.246000</td>\n",
       "    </tr>\n",
       "    <tr>\n",
       "      <th>Rural</th>\n",
       "      <td>Randallchester</td>\n",
       "      <td>5</td>\n",
       "      <td>45</td>\n",
       "      <td>29.742000</td>\n",
       "    </tr>\n",
       "    <tr>\n",
       "      <th>Rural</th>\n",
       "      <td>South Jennifer</td>\n",
       "      <td>7</td>\n",
       "      <td>49</td>\n",
       "      <td>35.264286</td>\n",
       "    </tr>\n",
       "    <tr>\n",
       "      <th>Rural</th>\n",
       "      <td>South Marychester</td>\n",
       "      <td>8</td>\n",
       "      <td>8</td>\n",
       "      <td>41.870000</td>\n",
       "    </tr>\n",
       "    <tr>\n",
       "      <th>Rural</th>\n",
       "      <td>South Saramouth</td>\n",
       "      <td>4</td>\n",
       "      <td>28</td>\n",
       "      <td>36.160000</td>\n",
       "    </tr>\n",
       "    <tr>\n",
       "      <th>Rural</th>\n",
       "      <td>Taylorhaven</td>\n",
       "      <td>6</td>\n",
       "      <td>6</td>\n",
       "      <td>42.263333</td>\n",
       "    </tr>\n",
       "    <tr>\n",
       "      <th>Rural</th>\n",
       "      <td>West Heather</td>\n",
       "      <td>9</td>\n",
       "      <td>36</td>\n",
       "      <td>33.890000</td>\n",
       "    </tr>\n",
       "  </tbody>\n",
       "</table>\n",
       "</div>"
      ],
      "text/plain": [
       "                    city  citycount  driver_count       fare\n",
       "type                                                        \n",
       "Rural       Bradshawfurt         10            70  40.064000\n",
       "Rural          Garzaport          3            21  24.123333\n",
       "Rural     Harringtonfort          6            24  33.470000\n",
       "Rural        Jessicaport          6             6  36.013333\n",
       "Rural         Lake Jamie          6            24  34.358333\n",
       "Rural    Lake Latoyabury         11            22  26.061818\n",
       "Rural        Michaelberg         12            72  34.997500\n",
       "Rural       New Ryantown          6            12  43.278333\n",
       "Rural         Newtonview          4             4  36.745000\n",
       "Rural        North Holly          9            72  29.130000\n",
       "Rural        North Jaime          8             8  30.802500\n",
       "Rural        Penaborough          5            30  35.246000\n",
       "Rural     Randallchester          5            45  29.742000\n",
       "Rural     South Jennifer          7            49  35.264286\n",
       "Rural  South Marychester          8             8  41.870000\n",
       "Rural    South Saramouth          4            28  36.160000\n",
       "Rural        Taylorhaven          6             6  42.263333\n",
       "Rural       West Heather          9            36  33.890000"
      ]
     },
     "execution_count": 4,
     "metadata": {},
     "output_type": "execute_result"
    }
   ],
   "source": [
    "#Group each city type\n",
    "Urbantype = 'Urban'\n",
    "justUrban = data_df.loc[Urbantype]\n",
    "justUrban\n",
    "\n",
    "Suburbantype = 'Suburban'\n",
    "justSuburban = data_df.loc[Suburbantype]\n",
    "justSuburban\n",
    "\n",
    "Ruraltype = 'Rural'\n",
    "justRural = data_df.loc[Ruraltype]\n",
    "justRural"
   ]
  },
  {
   "cell_type": "code",
   "execution_count": 15,
   "metadata": {
    "scrolled": true
   },
   "outputs": [
    {
     "data": {
      "text/plain": [
       "<function matplotlib.pyplot.show(*args, **kw)>"
      ]
     },
     "execution_count": 15,
     "metadata": {},
     "output_type": "execute_result"
    },
    {
     "data": {
      "image/png": "[encoded data removed]",
      "text/plain": [
       "<Figure size 432x288 with 1 Axes>"
      ]
     },
     "metadata": {
      "needs_background": "light"
     },
     "output_type": "display_data"
    }
   ],
   "source": [
    "# Obtain the x and y coordinates for each of the three city types\n",
    "\n",
    "\n",
    "\n",
    "#for color in city \n",
    "#colors = ['Gold', 'LightSkyBlue', 'LightCoral']\n",
    "\n",
    "# Build the scatter plots for each city types\n",
    "plt.scatter(justUrban['citycount'], justUrban['fare'], justUrban['driver_count'], color='coral', marker='o', alpha=.6, edgecolor='black')\n",
    "plt.scatter(justSuburban['citycount'], justSuburban['fare'], justSuburban['driver_count'], color='lightblue', marker='o', alpha=.6, edgecolor='black')\n",
    "plt.scatter(justRural['citycount'], justRural['fare'], justRural['driver_count'], color='gold', marker='o', alpha=.6, edgecolor='black')\n",
    "\n",
    "# Incorporate the other graph properties\n",
    "plt.ylabel('Average Fare($)')\n",
    "plt.xlabel('Total Number of Rides(Per City)')\n",
    "plt.title('Pyber Ride Share Data (2016)')\n",
    "# Create a legend\n",
    "plt.legend(['Urban', 'Suburban', 'Rural'], loc='best', title='city type', scatteryoffsets=[1])\n",
    "plt.grid()\n",
    "# Incorporate a text label regarding circle size\n",
    "\n",
    "\n",
    "plt.show\n",
    "\n",
    "\n",
    "# Save Figure"
   ]
  },
  {
   "cell_type": "markdown",
   "metadata": {},
   "source": [
    "## Bubble Plot of Ride Sharing Data"
   ]
  },
  {
   "cell_type": "raw",
   "metadata": {},
   "source": [
    "# Obtain the x and y coordinates for each of the three city types\n",
    "\n",
    "Urbantype = 'Urban'\n",
    "justUrban = data_df.loc[Urbantype]\n",
    "Urbanlist = justUrban.key()\n",
    "\n",
    "#for color in city \n",
    "colors = ['Gold', 'LightSkyBlue', 'LightCoral']\n",
    "\n",
    "# Build the scatter plots for each city types\n",
    "Urbanlist.scatter(data_df['citycount'], data_df['fare'], data_df['driver_count'], marker='o', c=colors, alpha=.5)\n",
    "\n",
    "# Incorporate the other graph properties\n",
    "\n",
    "# Create a legend\n",
    "\n",
    "\n",
    "# Incorporate a text label regarding circle size\n",
    "\n",
    "# Save Figure\n",
    "plt.show\n",
    "plt.ylabel('Average Fare($)')\n",
    "plt.xlabel('Total Number of Rides(Per City)')\n",
    "plt.legend(loc=\"best\")"
   ]
  },
  {
   "cell_type": "code",
   "execution_count": 6,
   "metadata": {},
   "outputs": [],
   "source": [
    "# Show plot\n",
    "plt.show()"
   ]
  },
  {
   "cell_type": "markdown",
   "metadata": {},
   "source": [
    "\n",
    "## Total Fares by City Type"
   ]
  },
  {
   "cell_type": "code",
   "execution_count": 13,
   "metadata": {},
   "outputs": [
    {
     "name": "stdout",
     "output_type": "stream",
     "text": [
      "<pandas.core.groupby.groupby.DataFrameGroupBy object at 0x000001D53FD0A320>\n"
     ]
    },
    {
     "data": {
      "image/png": "[encoded data removed]",
      "text/plain": [
       "<Figure size 432x288 with 1 Axes>"
      ]
     },
     "metadata": {},
     "output_type": "display_data"
    }
   ],
   "source": [
    "# Calculate Type Percents\n",
    "TypeGroup = CombinedCityRide_df.groupby('type')\n",
    "print(TypeGroup)\n",
    "FareCounts= TypeGroup['fare'].count().reset_index()\n",
    "FareCounts= FareCounts.rename(columns = {\"fare\": \"Total Fare Count\"})\n",
    "FareSum = TypeGroup[['fare']].sum()\n",
    "FareSum = FareSum.rename(columns = {\"fare\": \"Fare Total Sum\"})\n",
    "\n",
    "\n",
    "Fare_df= pd.DataFrame(FareCounts)\n",
    "Fare_df= Fare_df.merge(FareSum, on='type')\n",
    "Fare_df\n",
    "\n",
    "FarePrecentage = (FareSum/TotalFare*100)\n",
    "FarePrecentage\n",
    "\n",
    "# Build Pie Chart\n",
    "explode = (0,0,0.1)\n",
    "colors = ['Gold', 'LightSkyBlue', 'LightCoral']\n",
    "labels = Fare_df['type']\n",
    "plt.pie(FarePrecentage['Fare Total Sum'], explode=explode, labels=labels, colors=colors,\n",
    "        autopct=\"%1.1f%%\", shadow=True, startangle=140)\n",
    "plt.axis(\"equal\")\n",
    "plt.title('% of Total Fares by City Type')\n",
    "plt.show()\n",
    "# Save Figure\n"
   ]
  },
  {
   "cell_type": "code",
   "execution_count": 8,
   "metadata": {},
   "outputs": [
    {
     "name": "stdout",
     "output_type": "stream",
     "text": [
      "2375\n"
     ]
    }
   ],
   "source": [
    "# Show Figure\n",
    "\n",
    "CombinedCityRide_df.head()\n",
    "TotalRide = CombinedCityRide_df['ride_id'].count()\n",
    "print(TotalRide)"
   ]
  },
  {
   "cell_type": "markdown",
   "metadata": {},
   "source": [
    "## Total Rides by City Type"
   ]
  },
  {
   "cell_type": "code",
   "execution_count": 14,
   "metadata": {},
   "outputs": [
    {
     "name": "stdout",
     "output_type": "stream",
     "text": [
      "<pandas.core.groupby.groupby.DataFrameGroupBy object at 0x000001D53FC626D8>\n"
     ]
    },
    {
     "data": {
      "image/png": "[encoded data removed]",
      "text/plain": [
       "<Figure size 432x288 with 1 Axes>"
      ]
     },
     "metadata": {},
     "output_type": "display_data"
    }
   ],
   "source": [
    "# Calculate Ride Percents\n",
    "TypeGroup = CombinedCityRide_df.groupby('type')\n",
    "print(TypeGroup)\n",
    "RideCount = TypeGroup['ride_id'].count()\n",
    "Ride_df = pd.DataFrame(RideCount)\n",
    "Ride_df\n",
    "RidePrecentage = (RideCount/TotalRide*100)\n",
    "RidePrecentage\n",
    "\n",
    "# Build Pie Chart\n",
    "explode = (0,0,0.1)\n",
    "colors = ['Gold', 'LightSkyBlue', 'LightCoral']\n",
    "labels = Fare_df['type']\n",
    "plt.pie(RidePrecentage, explode=explode, labels=labels, colors=colors,\n",
    "        autopct=\"%1.1f%%\", shadow=True, startangle=140)\n",
    "plt.axis(\"equal\")\n",
    "plt.title('% of Total Rides by City Type')\n",
    "plt.show()\n",
    "\n",
    "# Save Figure\n"
   ]
  },
  {
   "cell_type": "code",
   "execution_count": 10,
   "metadata": {},
   "outputs": [
    {
     "name": "stdout",
     "output_type": "stream",
     "text": [
      "68709\n"
     ]
    }
   ],
   "source": [
    "# Show Figure\n",
    "\n",
    "CombinedCityRide_df.head()\n",
    "TotalDriver = CombinedCityRide_df['driver_count'].sum()\n",
    "print(TotalDriver)"
   ]
  },
  {
   "cell_type": "markdown",
   "metadata": {},
   "source": [
    "## Total Drivers by City Type"
   ]
  },
  {
   "cell_type": "code",
   "execution_count": 11,
   "metadata": {},
   "outputs": [
    {
     "name": "stdout",
     "output_type": "stream",
     "text": [
      "<pandas.core.groupby.groupby.DataFrameGroupBy object at 0x000001D53FCB6668>\n"
     ]
    },
    {
     "data": {
      "image/png": "[encoded data removed]",
      "text/plain": [
       "<Figure size 432x288 with 1 Axes>"
      ]
     },
     "metadata": {},
     "output_type": "display_data"
    }
   ],
   "source": [
    "# Calculate Driver Percents\n",
    "TypeGroup = CombinedCityRide_df.groupby('type')\n",
    "print(TypeGroup)\n",
    "DriverCount = TypeGroup['driver_count'].sum()\n",
    "Driver_df = pd.DataFrame(DriverCount)\n",
    "Driver_df\n",
    "DriverPrecentage = (DriverCount/TotalDriver*100)\n",
    "DriverPrecentage\n",
    "\n",
    "# Build Pie Chart\n",
    "explode = (0,0,0.1)\n",
    "colors = ['Gold', 'LightSkyBlue', 'LightCoral']\n",
    "labels = Fare_df['type']\n",
    "plt.pie(DriverPrecentage, explode=explode, labels=labels, colors=colors,\n",
    "        autopct=\"%1.1f%%\", shadow=True, startangle=140)\n",
    "plt.axis(\"equal\")\n",
    "plt.title('% of Total Drivers by City Type')\n",
    "plt.show()\n",
    "# Save Figure\n"
   ]
  },
  {
   "cell_type": "code",
   "execution_count": 12,
   "metadata": {
    "scrolled": true
   },
   "outputs": [],
   "source": [
    "\n"
   ]
  },
  {
   "cell_type": "code",
   "execution_count": null,
   "metadata": {},
   "outputs": [],
   "source": []
  },
  {
   "cell_type": "code",
   "execution_count": null,
   "metadata": {},
   "outputs": [],
   "source": []
  }
 ],
 "metadata": {
  "anaconda-cloud": {},
  "kernelspec": {
   "display_name": "Python 3",
   "language": "python",
   "name": "python3"
  },
  "language_info": {
   "codemirror_mode": {
    "name": "ipython",
    "version": 3
   },
   "file_extension": ".py",
   "mimetype": "text/x-python",
   "name": "python",
   "nbconvert_exporter": "python",
   "pygments_lexer": "ipython3",
   "version": "3.6.6"
  }
 },
 "nbformat": 4,
 "nbformat_minor": 2
}
